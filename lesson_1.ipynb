{
 "cells": [
  {
   "cell_type": "markdown",
   "metadata": {},
   "source": [
    "### 1. Посмотреть документацию к API GitHub, разобраться как вывести список репозиториев для конкретного пользователя, сохранить JSON-вывод в файле *.json"
   ]
  },
  {
   "cell_type": "code",
   "execution_count": 4,
   "metadata": {},
   "outputs": [],
   "source": [
    "import requests\n",
    "import json"
   ]
  },
  {
   "cell_type": "code",
   "execution_count": 38,
   "metadata": {},
   "outputs": [
    {
     "name": "stdout",
     "output_type": "stream",
     "text": [
      "{'login': 'Avsent', 'id': 76543760, 'node_id': 'MDQ6VXNlcjc2NTQzNzYw', 'avatar_url': 'https://avatars.githubusercontent.com/u/76543760?v=4', 'gravatar_id': '', 'url': 'https://api.github.com/users/Avsent', 'html_url': 'https://github.com/Avsent', 'followers_url': 'https://api.github.com/users/Avsent/followers', 'following_url': 'https://api.github.com/users/Avsent/following{/other_user}', 'gists_url': 'https://api.github.com/users/Avsent/gists{/gist_id}', 'starred_url': 'https://api.github.com/users/Avsent/starred{/owner}{/repo}', 'subscriptions_url': 'https://api.github.com/users/Avsent/subscriptions', 'organizations_url': 'https://api.github.com/users/Avsent/orgs', 'repos_url': 'https://api.github.com/users/Avsent/repos', 'events_url': 'https://api.github.com/users/Avsent/events{/privacy}', 'received_events_url': 'https://api.github.com/users/Avsent/received_events', 'type': 'User', 'site_admin': False, 'name': 'Alexander Sentykov', 'company': None, 'blog': '', 'location': None, 'email': None, 'hireable': None, 'bio': None, 'twitter_username': None, 'public_repos': 5, 'public_gists': 0, 'followers': 0, 'following': 0, 'created_at': '2020-12-24T02:42:58Z', 'updated_at': '2021-07-31T04:41:25Z'}\n"
     ]
    }
   ],
   "source": [
    "user = 'Avsent'\n",
    "url = f'https://api.github.com/users/{username}'\n",
    "user_data = requests.get(url).json()\n",
    "print(user_data)"
   ]
  },
  {
   "cell_type": "code",
   "execution_count": 39,
   "metadata": {},
   "outputs": [
    {
     "name": "stdout",
     "output_type": "stream",
     "text": [
      "-Python-Data-Science\n",
      "Geek_python\n",
      "introduction_math\n",
      "Phyton3\n",
      "python\n"
     ]
    }
   ],
   "source": [
    "req = requests.get(f'https://api.github.com/users/{user}/repos')\n",
    "\n",
    "with open('data.json', 'w') as f:\n",
    "    json.dump(req.json(), f)\n",
    "\n",
    "for i in req.json():\n",
    "    print(i['name'])"
   ]
  },
  {
   "cell_type": "markdown",
   "metadata": {},
   "source": [
    "### 2. Изучить список открытых API. Найти среди них любое, требующее авторизацию (любого типа). Выполнить запросы к нему, пройдя авторизацию. Ответ сервера записать в файл."
   ]
  },
  {
   "cell_type": "code",
   "execution_count": 41,
   "metadata": {},
   "outputs": [
    {
     "name": "stdout",
     "output_type": "stream",
     "text": [
      "В городе London 280.32 градусов по Кельвину\n"
     ]
    }
   ],
   "source": [
    "appid = 'b6907d289e10d714a6e88b30761fae22'\n",
    "service = 'https://samples.openweathermap.org/data/2.5/weather'\n",
    "\n",
    "req = requests.get(f'{service}?q=London,uk&appid={appid}')\n",
    "with open('data_1.json', 'w') as f:\n",
    "    json.dump(req.json(), f)\n",
    "\n",
    "data = json.loads(req.text)\n",
    "\n",
    "print(f\"В городе {data['name']} {data['main']['temp']} градусов по Кельвину\")"
   ]
  }
 ],
 "metadata": {
  "kernelspec": {
   "display_name": "Python 3",
   "language": "python",
   "name": "python3"
  },
  "language_info": {
   "codemirror_mode": {
    "name": "ipython",
    "version": 3
   },
   "file_extension": ".py",
   "mimetype": "text/x-python",
   "name": "python",
   "nbconvert_exporter": "python",
   "pygments_lexer": "ipython3",
   "version": "3.7.6"
  }
 },
 "nbformat": 4,
 "nbformat_minor": 4
}
